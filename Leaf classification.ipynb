{
 "cells": [
  {
   "cell_type": "markdown",
   "id": "scientific-saying",
   "metadata": {},
   "source": [
    "# IFT712 Project: Leaf classification"
   ]
  },
  {
   "cell_type": "markdown",
   "id": "public-firmware",
   "metadata": {},
   "source": [
    "## Configuration"
   ]
  },
  {
   "cell_type": "code",
   "execution_count": 1,
   "id": "legendary-farming",
   "metadata": {},
   "outputs": [],
   "source": [
    "import warnings\n",
    "warnings.filterwarnings('ignore')\n",
    "import utils.gestionDonnees as GD\n",
    "from methodes.RegressionLogistique import RegressionLogistique\n",
    "from methodes.Svm import SVMClassifier\n",
    "from methodes.Knn import Knn\n",
    "from methodes.OneLayerClassifier import OneLayerClassifier\n",
    "from methodes.ArbreDecision import ArbreDecision\n",
    "from methodes.ForetDecision import ForetDecision\n",
    "from utils.visualisation import visualize"
   ]
  },
  {
   "cell_type": "code",
   "execution_count": 2,
   "id": "desperate-syndicate",
   "metadata": {},
   "outputs": [],
   "source": [
    "data=GD.GestionDonnees()\n",
    "models=[RegressionLogistique(),SVMClassifier(),Knn(),OneLayerClassifier(),ArbreDecision(),ForetDecision()]"
   ]
  },
  {
   "cell_type": "markdown",
   "id": "average-harvey",
   "metadata": {},
   "source": [
    "## Results without data processing"
   ]
  },
  {
   "cell_type": "code",
   "execution_count": 3,
   "id": "increased-chemical",
   "metadata": {},
   "outputs": [],
   "source": [
    "X_train,y_train=data.charger_donnees()"
   ]
  },
  {
   "cell_type": "code",
   "execution_count": 5,
   "id": "medieval-princess",
   "metadata": {},
   "outputs": [
    {
     "name": "stdout",
     "output_type": "stream",
     "text": [
      "######################'Logistic Regression'#####################\n",
      "------------Crossed Validation :--------------- \n",
      "Accuracy of the 2th iteration: 0.5858585858585859\n",
      "Accuracy of the 3th iteration: 0.6060606060606061\n",
      "Accuracy of the 4th iteration: 0.6313131313131313\n",
      "Accuracy of the 5th iteration: 0.5555555555555556\n",
      "Accuracy of the 6th iteration: 0.5707070707070707\n",
      "Accuracy of the 7th iteration: 0.601010101010101\n",
      "Accuracy of the 8th iteration: 0.5757575757575758\n",
      "Accuracy of the 9th iteration: 0.5858585858585859\n",
      "Accuracy of the 10th iteration: 0.6363636363636364\n",
      "Accuracy of the 11th iteration: 0.601010101010101\n",
      " ==> The cross-validation of the basic model shows an average accuracy of 0.59\n",
      "---------------Searching for hyper-parameters---------------- \n",
      "Best hyper parameters are {'C': 20, 'max_iter': 100, 'solver': 'lbfgs'}:\n",
      " ==>The cross-validation of the model after hyperparameters search shows an accuracy of 0.88\n",
      "######################'SVM'#####################\n",
      "------------Crossed Validation :--------------- \n",
      "Accuracy of the 2th iteration: 0.898989898989899\n",
      "Accuracy of the 3th iteration: 0.9141414141414141\n",
      "Accuracy of the 4th iteration: 0.8787878787878788\n",
      "Accuracy of the 5th iteration: 0.8787878787878788\n",
      "Accuracy of the 6th iteration: 0.8838383838383839\n",
      "Accuracy of the 7th iteration: 0.9141414141414141\n",
      "Accuracy of the 8th iteration: 0.898989898989899\n",
      "Accuracy of the 9th iteration: 0.898989898989899\n",
      "Accuracy of the 10th iteration: 0.898989898989899\n",
      "Accuracy of the 11th iteration: 0.9040404040404041\n",
      " ==> The cross-validation of the basic model shows an average accuracy of 0.90\n",
      "---------------Searching for hyper-parameters---------------- \n",
      "Best hyper parameters are {'C': 100, 'gamma': 1, 'kernel': 'sigmoid'}:\n",
      " ==>The cross-validation of the model after hyperparameters search shows an accuracy of 0.95\n",
      "######################'Knn'#####################\n",
      "------------Crossed Validation :--------------- \n",
      "Accuracy of the 2th iteration: 0.8232323232323232\n",
      "Accuracy of the 3th iteration: 0.8434343434343434\n",
      "Accuracy of the 4th iteration: 0.8535353535353535\n",
      "Accuracy of the 5th iteration: 0.8383838383838383\n",
      "Accuracy of the 6th iteration: 0.8181818181818182\n",
      "Accuracy of the 7th iteration: 0.8434343434343434\n",
      "Accuracy of the 8th iteration: 0.8484848484848485\n",
      "Accuracy of the 9th iteration: 0.8636363636363636\n",
      "Accuracy of the 10th iteration: 0.8686868686868687\n",
      "Accuracy of the 11th iteration: 0.8686868686868687\n",
      " ==> The cross-validation of the basic model shows an average accuracy of 0.85\n",
      "---------------Searching for hyper-parameters---------------- \n",
      "Best hyper parameters are {'leaf_size': 20, 'metric': 'minkowski', 'n_neighbors': 1, 'p': 1, 'weights': 'uniform'}:\n",
      " ==>The cross-validation of the model after hyperparameters search shows an accuracy of 0.96\n",
      "######################'One Layer'#####################\n",
      "------------Crossed Validation :--------------- \n",
      "Accuracy of the 2th iteration: 0.8181818181818182\n",
      "Accuracy of the 3th iteration: 0.7777777777777778\n",
      "Accuracy of the 4th iteration: 0.7525252525252525\n",
      "Accuracy of the 5th iteration: 0.7878787878787878\n",
      "Accuracy of the 6th iteration: 0.7777777777777778\n",
      "Accuracy of the 7th iteration: 0.7676767676767676\n",
      "Accuracy of the 8th iteration: 0.5252525252525253\n",
      "Accuracy of the 9th iteration: 0.8131313131313131\n",
      "Accuracy of the 10th iteration: 0.7878787878787878\n",
      "Accuracy of the 11th iteration: 0.8131313131313131\n",
      " ==> The cross-validation of the basic model shows an average accuracy of 0.76\n",
      "---------------Searching for hyper-parameters---------------- \n",
      "Best hyper parameters are {'alpha': 0.0001, 'penalty': 'l1'}:\n",
      " ==>The cross-validation of the model after hyperparameters search shows an accuracy of 0.52\n",
      "######################'Decision Tree'#####################\n",
      "------------Crossed Validation :--------------- \n",
      "Accuracy of the 2th iteration: 0.7323232323232324\n",
      "Accuracy of the 3th iteration: 0.6767676767676768\n",
      "Accuracy of the 4th iteration: 0.696969696969697\n",
      "Accuracy of the 5th iteration: 0.6616161616161617\n",
      "Accuracy of the 6th iteration: 0.7121212121212122\n",
      "Accuracy of the 7th iteration: 0.7070707070707071\n",
      "Accuracy of the 8th iteration: 0.6363636363636364\n",
      "Accuracy of the 9th iteration: 0.7323232323232324\n",
      "Accuracy of the 10th iteration: 0.6565656565656566\n",
      "Accuracy of the 11th iteration: 0.6515151515151515\n",
      " ==> The cross-validation of the basic model shows an average accuracy of 0.69\n",
      "---------------Searching for hyper-parameters---------------- \n",
      "Best hyper parameters are {'criterion': 'entropy', 'max_depth': 10}:\n",
      " ==>The cross-validation of the model after hyperparameters search shows an accuracy of 0.68\n",
      "######################'Random Forest'#####################\n",
      "------------Crossed Validation :--------------- \n",
      "Accuracy of the 2th iteration: 0.9848484848484849\n",
      "Accuracy of the 3th iteration: 0.9595959595959596\n",
      "Accuracy of the 4th iteration: 0.98989898989899\n",
      "Accuracy of the 5th iteration: 0.9747474747474747\n",
      "Accuracy of the 6th iteration: 0.98989898989899\n",
      "Accuracy of the 7th iteration: 0.9646464646464646\n",
      "Accuracy of the 8th iteration: 0.9696969696969697\n",
      "Accuracy of the 9th iteration: 0.9848484848484849\n",
      "Accuracy of the 10th iteration: 0.9545454545454546\n",
      "Accuracy of the 11th iteration: 0.9747474747474747\n",
      " ==> The cross-validation of the basic model shows an average accuracy of 0.97\n",
      "---------------Searching for hyper-parameters---------------- \n",
      "Best hyper parameters are {'bootstrap': True, 'max_depth': None, 'max_features': 'sqrt', 'n_estimators': 100}:\n",
      " ==>The cross-validation of the model after hyperparameters search shows an accuracy of 0.98\n"
     ]
    }
   ],
   "source": [
    "accuracy_before=dict()\n",
    "accuracy_after=dict()\n",
    "for m in models:\n",
    "    print(\"######################%r#####################\" %m.name)\n",
    "    m.crossed_validation(X_train, y_train)\n",
    "    m.tuning(m.params_grid,X_train,y_train)\n",
    "    accuracy_before[m.name]=m.score_before\n",
    "    accuracy_after[m.name]=m.score_after\n",
    "    \n",
    "    "
   ]
  },
  {
   "cell_type": "code",
   "execution_count": 6,
   "id": "breeding-martin",
   "metadata": {},
   "outputs": [
    {
     "data": {
      "image/png": "[encoded data removed]",
      "text/plain": [
       "<Figure size 720x432 with 1 Axes>"
      ]
     },
     "metadata": {
      "needs_background": "light"
     },
     "output_type": "display_data"
    }
   ],
   "source": [
    "visualize(accuracy_before,accuracy_after)"
   ]
  },
  {
   "cell_type": "markdown",
   "id": "still-history",
   "metadata": {},
   "source": [
    "## Results with data processing \"Normalisation\""
   ]
  },
  {
   "cell_type": "code",
   "execution_count": 3,
   "id": "divine-warrant",
   "metadata": {},
   "outputs": [],
   "source": [
    "X_train,y_train=data.charger_donnees(True)"
   ]
  },
  {
   "cell_type": "code",
   "execution_count": 7,
   "id": "owned-decrease",
   "metadata": {},
   "outputs": [
    {
     "name": "stdout",
     "output_type": "stream",
     "text": [
      "######################'Logistic Regression'#####################\n",
      "------------Crossed Validation :--------------- \n",
      "Accuracy of the 2th iteration: 0.98989898989899\n",
      "Accuracy of the 3th iteration: 0.98989898989899\n",
      "Accuracy of the 4th iteration: 0.9797979797979798\n",
      "Accuracy of the 5th iteration: 0.98989898989899\n",
      "Accuracy of the 6th iteration: 0.9848484848484849\n",
      "Accuracy of the 7th iteration: 1.0\n",
      "Accuracy of the 8th iteration: 0.98989898989899\n",
      "Accuracy of the 9th iteration: 0.9949494949494949\n",
      "Accuracy of the 10th iteration: 1.0\n",
      "Accuracy of the 11th iteration: 0.98989898989899\n",
      " ==> The cross-validation of the basic model shows an average accuracy of 0.99\n",
      "---------------Searching for hyper-parameters---------------- \n",
      "Best hyper parameters are {'C': 10, 'solver': 'lbfgs'}:\n",
      " ==>The cross-validation of the model after hyperparameters search shows an accuracy of 0.99\n",
      "######################'SVM'#####################\n",
      "------------Crossed Validation :--------------- \n",
      "Accuracy of the 2th iteration: 0.98989898989899\n",
      "Accuracy of the 3th iteration: 0.9747474747474747\n",
      "Accuracy of the 4th iteration: 0.9848484848484849\n",
      "Accuracy of the 5th iteration: 0.98989898989899\n",
      "Accuracy of the 6th iteration: 0.9797979797979798\n",
      "Accuracy of the 7th iteration: 0.98989898989899\n",
      "Accuracy of the 8th iteration: 0.9949494949494949\n",
      "Accuracy of the 9th iteration: 0.98989898989899\n",
      "Accuracy of the 10th iteration: 0.9949494949494949\n",
      "Accuracy of the 11th iteration: 0.9848484848484849\n",
      " ==> The cross-validation of the basic model shows an average accuracy of 0.99\n",
      "---------------Searching for hyper-parameters---------------- \n",
      "Best hyper parameters are {'C': 100, 'gamma': 0.0001, 'kernel': 'rbf'}:\n",
      " ==>The cross-validation of the model after hyperparameters search shows an accuracy of 0.99\n",
      "######################'Knn'#####################\n",
      "------------Crossed Validation :--------------- \n",
      "Accuracy of the 2th iteration: 0.9747474747474747\n",
      "Accuracy of the 3th iteration: 0.9545454545454546\n",
      "Accuracy of the 4th iteration: 0.9646464646464646\n",
      "Accuracy of the 5th iteration: 0.9646464646464646\n",
      "Accuracy of the 6th iteration: 0.9595959595959596\n",
      "Accuracy of the 7th iteration: 0.9797979797979798\n",
      "Accuracy of the 8th iteration: 0.9848484848484849\n",
      "Accuracy of the 9th iteration: 0.9696969696969697\n",
      "Accuracy of the 10th iteration: 0.9646464646464646\n",
      "Accuracy of the 11th iteration: 0.9797979797979798\n",
      " ==> The cross-validation of the basic model shows an average accuracy of 0.97\n",
      "---------------Searching for hyper-parameters---------------- \n",
      "Best hyper parameters are {'leaf_size': 20, 'metric': 'minkowski', 'n_neighbors': 1, 'p': 1, 'weights': 'uniform'}:\n",
      " ==>The cross-validation of the model after hyperparameters search shows an accuracy of 0.98\n",
      "######################'One Layer'#####################\n",
      "------------Crossed Validation :--------------- \n",
      "Accuracy of the 2th iteration: 0.8888888888888888\n",
      "Accuracy of the 3th iteration: 0.898989898989899\n",
      "Accuracy of the 4th iteration: 0.8535353535353535\n",
      "Accuracy of the 5th iteration: 0.9141414141414141\n",
      "Accuracy of the 6th iteration: 0.9292929292929293\n",
      "Accuracy of the 7th iteration: 0.9040404040404041\n",
      "Accuracy of the 8th iteration: 0.8282828282828283\n",
      "Accuracy of the 9th iteration: 0.9191919191919192\n",
      "Accuracy of the 10th iteration: 0.9242424242424242\n",
      "Accuracy of the 11th iteration: 0.898989898989899\n",
      " ==> The cross-validation of the basic model shows an average accuracy of 0.90\n",
      "---------------Searching for hyper-parameters---------------- \n",
      "Best hyper parameters are {'alpha': 0.0008071428571428573, 'penalty': 'l1'}:\n",
      " ==>The cross-validation of the model after hyperparameters search shows an accuracy of 0.90\n",
      "######################'Decision Tree'#####################\n",
      "------------Crossed Validation :--------------- \n",
      "Accuracy of the 2th iteration: 0.7272727272727273\n",
      "Accuracy of the 3th iteration: 0.6717171717171717\n",
      "Accuracy of the 4th iteration: 0.7121212121212122\n",
      "Accuracy of the 5th iteration: 0.6767676767676768\n",
      "Accuracy of the 6th iteration: 0.696969696969697\n",
      "Accuracy of the 7th iteration: 0.6868686868686869\n",
      "Accuracy of the 8th iteration: 0.6414141414141414\n",
      "Accuracy of the 9th iteration: 0.7424242424242424\n",
      "Accuracy of the 10th iteration: 0.6414141414141414\n",
      "Accuracy of the 11th iteration: 0.6565656565656566\n",
      " ==> The cross-validation of the basic model shows an average accuracy of 0.69\n",
      "---------------Searching for hyper-parameters---------------- \n",
      "Best hyper parameters are {'criterion': 'entropy', 'max_depth': 10}:\n",
      " ==>The cross-validation of the model after hyperparameters search shows an accuracy of 0.67\n",
      "######################'Random Forest'#####################\n",
      "------------Crossed Validation :--------------- \n",
      "Accuracy of the 2th iteration: 0.9797979797979798\n",
      "Accuracy of the 3th iteration: 0.9747474747474747\n",
      "Accuracy of the 4th iteration: 0.9797979797979798\n",
      "Accuracy of the 5th iteration: 0.9747474747474747\n",
      "Accuracy of the 6th iteration: 0.9797979797979798\n",
      "Accuracy of the 7th iteration: 0.9848484848484849\n",
      "Accuracy of the 8th iteration: 0.9848484848484849\n",
      "Accuracy of the 9th iteration: 0.9848484848484849\n",
      "Accuracy of the 10th iteration: 0.9646464646464646\n",
      "Accuracy of the 11th iteration: 0.9848484848484849\n",
      " ==> The cross-validation of the basic model shows an average accuracy of 0.98\n",
      "---------------Searching for hyper-parameters---------------- \n",
      "Best hyper parameters are {'bootstrap': True, 'max_depth': 30, 'max_features': 'auto', 'n_estimators': 100}:\n",
      " ==>The cross-validation of the model after hyperparameters search shows an accuracy of 0.98\n"
     ]
    }
   ],
   "source": [
    "accuracy_before=dict()\n",
    "accuracy_after=dict()\n",
    "for m in models:\n",
    "    print(\"######################%r#####################\" %m.name)\n",
    "    m.crossed_validation(X_train, y_train)\n",
    "    m.tuning(m.params_grid,X_train,y_train)\n",
    "    accuracy_before[m.name]=m.score_before\n",
    "    accuracy_after[m.name]=m.score_after"
   ]
  },
  {
   "cell_type": "code",
   "execution_count": 8,
   "id": "downtown-procurement",
   "metadata": {},
   "outputs": [
    {
     "data": {
      "image/png": "[encoded data removed]",
      "text/plain": [
       "<Figure size 720x432 with 1 Axes>"
      ]
     },
     "metadata": {
      "needs_background": "light"
     },
     "output_type": "display_data"
    }
   ],
   "source": [
    "visualize(accuracy_before,accuracy_after)"
   ]
  },
  {
   "cell_type": "code",
   "execution_count": null,
   "id": "realistic-climb",
   "metadata": {},
   "outputs": [],
   "source": []
  }
 ],
 "metadata": {
  "kernelspec": {
   "display_name": "Python 3",
   "language": "python",
   "name": "python3"
  },
  "language_info": {
   "codemirror_mode": {
    "name": "ipython",
    "version": 3
   },
   "file_extension": ".py",
   "mimetype": "text/x-python",
   "name": "python",
   "nbconvert_exporter": "python",
   "pygments_lexer": "ipython3",
   "version": "3.8.3"
  }
 },
 "nbformat": 4,
 "nbformat_minor": 5
}
