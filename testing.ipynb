{
 "cells": [
  {
   "cell_type": "code",
   "execution_count": 1,
   "id": "legendary-farming",
   "metadata": {},
   "outputs": [],
   "source": [
    "import utils.gestionDonnees as GD"
   ]
  },
  {
   "cell_type": "code",
   "execution_count": 2,
   "id": "desperate-syndicate",
   "metadata": {},
   "outputs": [],
   "source": [
    "donnees=GD.GestionDonnees()"
   ]
  },
  {
   "cell_type": "code",
   "execution_count": 3,
   "id": "increased-chemical",
   "metadata": {},
   "outputs": [],
   "source": [
    "X_train,y_train=donnees.charger_donnees()"
   ]
  },
  {
   "cell_type": "code",
   "execution_count": 4,
   "id": "documentary-enlargement",
   "metadata": {},
   "outputs": [],
   "source": [
    "from methodes.RegressionLogistique import RegressionLogistique\n",
    "model = RegressionLogistique()"
   ]
  },
  {
   "cell_type": "code",
   "execution_count": 5,
   "id": "confused-graduation",
   "metadata": {},
   "outputs": [],
   "source": [
    "model.train(X_train,y_train)"
   ]
  },
  {
   "cell_type": "code",
   "execution_count": 6,
   "id": "simple-thing",
   "metadata": {},
   "outputs": [
    {
     "name": "stdout",
     "output_type": "stream",
     "text": [
      "------------Crossed Validation :--------------- \n",
      "Accuracy of the 2th iteration: 0.5858585858585859\n",
      "Accuracy of the 3th iteration: 0.6060606060606061\n",
      "Accuracy of the 4th iteration: 0.6313131313131313\n",
      "Accuracy of the 5th iteration: 0.5555555555555556\n",
      "Accuracy of the 6th iteration: 0.5707070707070707\n",
      "Accuracy of the 7th iteration: 0.601010101010101\n",
      "Accuracy of the 8th iteration: 0.5757575757575758\n",
      "Accuracy of the 9th iteration: 0.5858585858585859\n",
      "Accuracy of the 10th iteration: 0.6363636363636364\n",
      "Accuracy of the 11th iteration: 0.601010101010101\n",
      "The cross-validation of the basic model shows an average score of 0.59\n"
     ]
    }
   ],
   "source": [
    "model.crossed_validation(X_train, y_train)"
   ]
  },
  {
   "cell_type": "code",
   "execution_count": 7,
   "id": "latter-river",
   "metadata": {},
   "outputs": [
    {
     "name": "stdout",
     "output_type": "stream",
     "text": [
      "# Searching for hyper-parameters for Logistic Regression\n",
      "Score Grid:\n",
      "For {'C': 0.5, 'max_iter': 100, 'solver': 'lbfgs'} : /n The accuracy is 0.577 \n",
      "For {'C': 0.5, 'max_iter': 100, 'solver': 'newton-cg'} : /n The accuracy is 0.577 \n",
      "For {'C': 1, 'max_iter': 100, 'solver': 'lbfgs'} : /n The accuracy is 0.593 \n",
      "For {'C': 1, 'max_iter': 100, 'solver': 'newton-cg'} : /n The accuracy is 0.593 \n",
      "For {'C': 5, 'max_iter': 100, 'solver': 'lbfgs'} : /n The accuracy is 0.758 \n",
      "For {'C': 5, 'max_iter': 100, 'solver': 'newton-cg'} : /n The accuracy is 0.758 \n",
      "For {'C': 10, 'max_iter': 100, 'solver': 'lbfgs'} : /n The accuracy is 0.834 \n",
      "For {'C': 10, 'max_iter': 100, 'solver': 'newton-cg'} : /n The accuracy is 0.834 \n",
      "For {'C': 15, 'max_iter': 100, 'solver': 'lbfgs'} : /n The accuracy is 0.864 \n",
      "For {'C': 15, 'max_iter': 100, 'solver': 'newton-cg'} : /n The accuracy is 0.863 \n",
      "For {'C': 20, 'max_iter': 100, 'solver': 'lbfgs'} : /n The accuracy is 0.884 \n",
      "For {'C': 20, 'max_iter': 100, 'solver': 'newton-cg'} : /n The accuracy is 0.884 \n",
      "-------------Best hyper parameters :------------\n",
      "{'C': 20, 'max_iter': 100, 'solver': 'lbfgs'}\n",
      "0.8838383838383839\n"
     ]
    }
   ],
   "source": [
    "model.tuning(model.params_grid,X_train,y_train)"
   ]
  },
  {
   "cell_type": "code",
   "execution_count": 8,
   "id": "cathedral-sunday",
   "metadata": {},
   "outputs": [
    {
     "data": {
      "text/plain": [
       "0.6838383838383838"
      ]
     },
     "execution_count": 8,
     "metadata": {},
     "output_type": "execute_result"
    }
   ],
   "source": [
    "677/990"
   ]
  },
  {
   "cell_type": "code",
   "execution_count": null,
   "id": "enhanced-contemporary",
   "metadata": {},
   "outputs": [],
   "source": []
  }
 ],
 "metadata": {
  "kernelspec": {
   "display_name": "Python 3",
   "language": "python",
   "name": "python3"
  },
  "language_info": {
   "codemirror_mode": {
    "name": "ipython",
    "version": 3
   },
   "file_extension": ".py",
   "mimetype": "text/x-python",
   "name": "python",
   "nbconvert_exporter": "python",
   "pygments_lexer": "ipython3",
   "version": "3.8.3"
  }
 },
 "nbformat": 4,
 "nbformat_minor": 5
}
