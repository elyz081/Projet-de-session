{
 "cells": [
  {
   "cell_type": "code",
   "execution_count": 1,
   "id": "legendary-farming",
   "metadata": {},
   "outputs": [],
   "source": [
    "import utils.gestionDonnees as GD"
   ]
  },
  {
   "cell_type": "code",
   "execution_count": 2,
   "id": "desperate-syndicate",
   "metadata": {},
   "outputs": [],
   "source": [
    "donnees=GD.GestionDonnees()"
   ]
  },
  {
   "cell_type": "code",
   "execution_count": 3,
   "id": "increased-chemical",
   "metadata": {},
   "outputs": [],
   "source": [
    "X_train,y_train=donnees.charger_donnees()"
   ]
  },
  {
   "cell_type": "code",
   "execution_count": 4,
   "id": "documentary-enlargement",
   "metadata": {},
   "outputs": [],
   "source": [
    "from methodes.RegressionLogistique import RegressionLogistique\n",
    "model = RegressionLogistique()"
   ]
  },
  {
   "cell_type": "code",
   "execution_count": 5,
   "id": "confused-graduation",
   "metadata": {},
   "outputs": [],
   "source": [
    "model.train(X_train,y_train)"
   ]
  },
  {
   "cell_type": "code",
   "execution_count": 6,
   "id": "simple-thing",
   "metadata": {},
   "outputs": [
    {
     "name": "stdout",
     "output_type": "stream",
     "text": [
      " --- Validation croisee --- \n",
      "Iteration  1\n",
      "Accuracy of the 2 eme iteration: 0.6565656565656566\n",
      "Iteration  2\n",
      "Accuracy of the 3 eme iteration: 0.6767676767676768\n",
      "Iteration  3\n",
      "Accuracy of the 4 eme iteration: 0.6868686868686869\n",
      "Iteration  4\n",
      "Accuracy of the 5 eme iteration: 0.6818181818181818\n",
      "Iteration  5\n",
      "Accuracy of the 6 eme iteration: 0.6515151515151515\n",
      "Iteration  6\n",
      "Accuracy of the 7 eme iteration: 0.696969696969697\n",
      "Iteration  7\n",
      "Accuracy of the 8 eme iteration: 0.6818181818181818\n",
      "Iteration  8\n",
      "Accuracy of the 9 eme iteration: 0.696969696969697\n",
      "Iteration  9\n",
      "Accuracy of the 10 eme iteration: 0.7272727272727273\n",
      "Iteration  10\n",
      "Accuracy of the 11 eme iteration: 0.6717171717171717\n",
      "La validation croisée sans recherche d'hyperparametre affiche un score moyen de test  de 0.68\n"
     ]
    },
    {
     "data": {
      "text/plain": [
       "0.6828282828282829"
      ]
     },
     "execution_count": 6,
     "metadata": {},
     "output_type": "execute_result"
    }
   ],
   "source": [
    "model.crossed_validation(X_train, y_train)"
   ]
  },
  {
   "cell_type": "code",
   "execution_count": 7,
   "id": "latter-river",
   "metadata": {},
   "outputs": [
    {
     "name": "stdout",
     "output_type": "stream",
     "text": [
      "# Réglage des hyper-parametres pour Regression Logistique\n",
      "-------------Meilleurs hyper parametres trouvés :------------\n",
      "{'C': 20, 'max_iter': 100, 'solver': 'lbfgs'}\n",
      "Grille des scores :\n",
      "For {'C': 0.5, 'max_iter': 100, 'solver': 'lbfgs'} : /n The accuracy of Validation Set 0.577 \n",
      "For {'C': 0.5, 'max_iter': 100, 'solver': 'newton-cg'} : /n The accuracy of Validation Set 0.577 \n",
      "For {'C': 1, 'max_iter': 100, 'solver': 'lbfgs'} : /n The accuracy of Validation Set 0.593 \n",
      "For {'C': 1, 'max_iter': 100, 'solver': 'newton-cg'} : /n The accuracy of Validation Set 0.593 \n",
      "For {'C': 5, 'max_iter': 100, 'solver': 'lbfgs'} : /n The accuracy of Validation Set 0.758 \n",
      "For {'C': 5, 'max_iter': 100, 'solver': 'newton-cg'} : /n The accuracy of Validation Set 0.758 \n",
      "For {'C': 10, 'max_iter': 100, 'solver': 'lbfgs'} : /n The accuracy of Validation Set 0.834 \n",
      "For {'C': 10, 'max_iter': 100, 'solver': 'newton-cg'} : /n The accuracy of Validation Set 0.834 \n",
      "For {'C': 15, 'max_iter': 100, 'solver': 'lbfgs'} : /n The accuracy of Validation Set 0.864 \n",
      "For {'C': 15, 'max_iter': 100, 'solver': 'newton-cg'} : /n The accuracy of Validation Set 0.863 \n",
      "For {'C': 20, 'max_iter': 100, 'solver': 'lbfgs'} : /n The accuracy of Validation Set 0.884 \n",
      "For {'C': 20, 'max_iter': 100, 'solver': 'newton-cg'} : /n The accuracy of Validation Set 0.884 \n"
     ]
    }
   ],
   "source": [
    "model.tuning(model.params_grid,X_train,y_train)"
   ]
  },
  {
   "cell_type": "code",
   "execution_count": 8,
   "id": "cathedral-sunday",
   "metadata": {},
   "outputs": [
    {
     "data": {
      "text/plain": [
       "0.6838383838383838"
      ]
     },
     "execution_count": 8,
     "metadata": {},
     "output_type": "execute_result"
    }
   ],
   "source": [
    "677/990"
   ]
  },
  {
   "cell_type": "code",
   "execution_count": null,
   "id": "enhanced-contemporary",
   "metadata": {},
   "outputs": [],
   "source": []
  }
 ],
 "metadata": {
  "kernelspec": {
   "display_name": "Python 3",
   "language": "python",
   "name": "python3"
  },
  "language_info": {
   "codemirror_mode": {
    "name": "ipython",
    "version": 3
   },
   "file_extension": ".py",
   "mimetype": "text/x-python",
   "name": "python",
   "nbconvert_exporter": "python",
   "pygments_lexer": "ipython3",
   "version": "3.8.3"
  }
 },
 "nbformat": 4,
 "nbformat_minor": 5
}
